{
 "cells": [
  {
   "cell_type": "code",
   "execution_count": 2,
   "metadata": {},
   "outputs": [
    {
     "data": {
      "text/plain": [
       "Pokemon\n",
       "Abomasnow        Grass\n",
       "Abra           Psychic\n",
       "Absol             Dark\n",
       "Accelgor           Bug\n",
       "Aegislash        Steel\n",
       "Aerodactyl        Rock\n",
       "Aggron           Steel\n",
       "Aipom           Normal\n",
       "Alakazam       Psychic\n",
       "Alomomola        Water\n",
       "Altaria         Dragon\n",
       "Amaura            Rock\n",
       "Ambipom         Normal\n",
       "Amoonguss        Grass\n",
       "Ampharos      Electric\n",
       "Anorith           Rock\n",
       "Arbok           Poison\n",
       "Arcanine          Fire\n",
       "Arceus          Normal\n",
       "Archen            Rock\n",
       "Name: Type, dtype: object"
      ]
     },
     "execution_count": 2,
     "metadata": {},
     "output_type": "execute_result"
    }
   ],
   "source": [
    "import pandas as pd\n",
    "\n",
    "pokemon = pd.read_csv(\"pokemon.csv\", index_col=\"Pokemon\", squeeze=True)\n",
    "\n",
    "pokemon.sort_index(inplace=True)\n",
    "\n",
    "pokemon.head(20)"
   ]
  },
  {
   "cell_type": "code",
   "execution_count": 5,
   "metadata": {},
   "outputs": [
    {
     "data": {
      "text/plain": [
       "'Normal'"
      ]
     },
     "execution_count": 5,
     "metadata": {},
     "output_type": "execute_result"
    }
   ],
   "source": [
    "pokemon.get(\"Arceus\")"
   ]
  },
  {
   "cell_type": "code",
   "execution_count": 7,
   "metadata": {},
   "outputs": [
    {
     "data": {
      "text/plain": [
       "Pokemon\n",
       "Moltres      Fire\n",
       "Meowth     Normal\n",
       "Name: Type, dtype: object"
      ]
     },
     "execution_count": 7,
     "metadata": {},
     "output_type": "execute_result"
    }
   ],
   "source": [
    "pokemon.get([\"Moltres\",\"Meowth\"])\n",
    "\n",
    "pokemon.get(key = [\"Moltres\",\"Meowth\"])"
   ]
  },
  {
   "cell_type": "code",
   "execution_count": 12,
   "metadata": {},
   "outputs": [
    {
     "data": {
      "text/plain": [
       "'This is not a pokemon'"
      ]
     },
     "execution_count": 12,
     "metadata": {},
     "output_type": "execute_result"
    }
   ],
   "source": [
    "pokemon.get(key=\"Digimon\")\n",
    "\n",
    "pokemon.get(key=\"Digimon\", default=\"This is not a pokemon\")\n",
    "\n",
    "pokemon.get(key=[\"Digimon\",\"cha cha mon\"], default=\"This is not a pokemon\")"
   ]
  }
 ],
 "metadata": {
  "kernelspec": {
   "display_name": "Python 3",
   "language": "python",
   "name": "python3"
  },
  "language_info": {
   "codemirror_mode": {
    "name": "ipython",
    "version": 3
   },
   "file_extension": ".py",
   "mimetype": "text/x-python",
   "name": "python",
   "nbconvert_exporter": "python",
   "pygments_lexer": "ipython3",
   "version": "3.9.6"
  }
 },
 "nbformat": 4,
 "nbformat_minor": 2
}
